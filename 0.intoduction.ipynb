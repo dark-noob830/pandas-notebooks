{
 "cells": [
  {
   "cell_type": "code",
   "id": "initial_id",
   "metadata": {
    "collapsed": true,
    "ExecuteTime": {
     "end_time": "2025-08-19T23:56:03.771235Z",
     "start_time": "2025-08-19T23:56:03.768890Z"
    }
   },
   "source": [
    "import pandas as pd\n",
    "import numpy as np"
   ],
   "outputs": [],
   "execution_count": 66
  },
  {
   "metadata": {
    "ExecuteTime": {
     "end_time": "2025-08-19T23:56:04.010198Z",
     "start_time": "2025-08-19T23:56:04.001197Z"
    }
   },
   "cell_type": "code",
   "source": "pd.Series()",
   "id": "1858d1fb23335318",
   "outputs": [
    {
     "data": {
      "text/plain": [
       "Series([], dtype: object)"
      ]
     },
     "execution_count": 67,
     "metadata": {},
     "output_type": "execute_result"
    }
   ],
   "execution_count": 67
  },
  {
   "metadata": {
    "ExecuteTime": {
     "end_time": "2025-08-19T23:56:04.492879Z",
     "start_time": "2025-08-19T23:56:04.488392Z"
    }
   },
   "cell_type": "code",
   "source": [
    "s = pd.Series([1, 2, 3, 4, 5])\n",
    "s"
   ],
   "id": "e245246893b6abcb",
   "outputs": [
    {
     "data": {
      "text/plain": [
       "0    1\n",
       "1    2\n",
       "2    3\n",
       "3    4\n",
       "4    5\n",
       "dtype: int64"
      ]
     },
     "execution_count": 68,
     "metadata": {},
     "output_type": "execute_result"
    }
   ],
   "execution_count": 68
  },
  {
   "metadata": {
    "ExecuteTime": {
     "end_time": "2025-08-19T23:56:04.536181Z",
     "start_time": "2025-08-19T23:56:04.532848Z"
    }
   },
   "cell_type": "code",
   "source": [
    "print(\"dtype of s:\", s.dtype)\n",
    "s = pd.Series([1, 2, 3, 4, 5], dtype=\"int8\")\n",
    "print(\"dtype of new s:\", s.dtype)"
   ],
   "id": "33fa507c0456b72d",
   "outputs": [
    {
     "name": "stdout",
     "output_type": "stream",
     "text": [
      "dtype of s: int64\n",
      "dtype of new s: int8\n"
     ]
    }
   ],
   "execution_count": 69
  },
  {
   "metadata": {
    "ExecuteTime": {
     "end_time": "2025-08-19T23:56:04.718764Z",
     "start_time": "2025-08-19T23:56:04.713939Z"
    }
   },
   "cell_type": "code",
   "source": [
    "print(s.size)\n",
    "print(s.shape)\n",
    "print(s.is_unique)  # True if all elements are unique.\n",
    "print(s.is_monotonic_increasing)  # True if all elements are non-decreasing.\n",
    "print(s.is_monotonic_decreasing)  # True if all elements are non-increasing."
   ],
   "id": "2cb0d65603e524ad",
   "outputs": [
    {
     "name": "stdout",
     "output_type": "stream",
     "text": [
      "5\n",
      "(5,)\n",
      "True\n",
      "True\n",
      "False\n"
     ]
    }
   ],
   "execution_count": 70
  },
  {
   "metadata": {
    "ExecuteTime": {
     "end_time": "2025-08-19T23:56:04.795389Z",
     "start_time": "2025-08-19T23:56:04.791030Z"
    }
   },
   "cell_type": "code",
   "source": [
    "s.index = ['a', 'b', 'c', 'd', 'e']\n",
    "s"
   ],
   "id": "1470059d94ba147d",
   "outputs": [
    {
     "data": {
      "text/plain": [
       "a    1\n",
       "b    2\n",
       "c    3\n",
       "d    4\n",
       "e    5\n",
       "dtype: int8"
      ]
     },
     "execution_count": 71,
     "metadata": {},
     "output_type": "execute_result"
    }
   ],
   "execution_count": 71
  },
  {
   "metadata": {
    "ExecuteTime": {
     "end_time": "2025-08-19T23:56:04.847509Z",
     "start_time": "2025-08-19T23:56:04.843486Z"
    }
   },
   "cell_type": "code",
   "source": "s['e']",
   "id": "5fd879914a799171",
   "outputs": [
    {
     "data": {
      "text/plain": [
       "np.int8(5)"
      ]
     },
     "execution_count": 72,
     "metadata": {},
     "output_type": "execute_result"
    }
   ],
   "execution_count": 72
  },
  {
   "metadata": {
    "ExecuteTime": {
     "end_time": "2025-08-19T23:56:04.903999Z",
     "start_time": "2025-08-19T23:56:04.898964Z"
    }
   },
   "cell_type": "code",
   "source": [
    "s = pd.Series([1, 2, 3, 4, 5], index=['a', 'b', 'c', 'd', 'e'])\n",
    "s"
   ],
   "id": "e772c08f079ae73",
   "outputs": [
    {
     "data": {
      "text/plain": [
       "a    1\n",
       "b    2\n",
       "c    3\n",
       "d    4\n",
       "e    5\n",
       "dtype: int64"
      ]
     },
     "execution_count": 73,
     "metadata": {},
     "output_type": "execute_result"
    }
   ],
   "execution_count": 73
  },
  {
   "metadata": {
    "ExecuteTime": {
     "end_time": "2025-08-19T23:56:04.970330Z",
     "start_time": "2025-08-19T23:56:04.966870Z"
    }
   },
   "cell_type": "code",
   "source": [
    "s = pd.Series({\"u1\": 'mahdi', \"u2\": \"ali\", \"u3\": \"mmd\"})\n",
    "print(s)\n",
    "print(\"*\" * 20)\n",
    "print(s['u1'])"
   ],
   "id": "1eac9f3615d85b84",
   "outputs": [
    {
     "name": "stdout",
     "output_type": "stream",
     "text": [
      "u1    mahdi\n",
      "u2      ali\n",
      "u3      mmd\n",
      "dtype: object\n",
      "********************\n",
      "mahdi\n"
     ]
    }
   ],
   "execution_count": 74
  },
  {
   "metadata": {
    "ExecuteTime": {
     "end_time": "2025-08-19T23:56:05.054874Z",
     "start_time": "2025-08-19T23:56:05.050600Z"
    }
   },
   "cell_type": "code",
   "source": "s.values  ## ndarray numpy",
   "id": "c395f874d7c87eda",
   "outputs": [
    {
     "data": {
      "text/plain": [
       "array(['mahdi', 'ali', 'mmd'], dtype=object)"
      ]
     },
     "execution_count": 75,
     "metadata": {},
     "output_type": "execute_result"
    }
   ],
   "execution_count": 75
  },
  {
   "metadata": {
    "ExecuteTime": {
     "end_time": "2025-08-19T23:56:05.118190Z",
     "start_time": "2025-08-19T23:56:05.113631Z"
    }
   },
   "cell_type": "code",
   "source": "s.index",
   "id": "8c6272d964f31f85",
   "outputs": [
    {
     "data": {
      "text/plain": [
       "Index(['u1', 'u2', 'u3'], dtype='object')"
      ]
     },
     "execution_count": 76,
     "metadata": {},
     "output_type": "execute_result"
    }
   ],
   "execution_count": 76
  },
  {
   "metadata": {
    "ExecuteTime": {
     "end_time": "2025-08-19T23:56:05.154733Z",
     "start_time": "2025-08-19T23:56:05.150195Z"
    }
   },
   "cell_type": "code",
   "source": [
    "s = pd.Series([1, 2, 3, 4])\n",
    "s.index"
   ],
   "id": "7a02466dd523f4a0",
   "outputs": [
    {
     "data": {
      "text/plain": [
       "RangeIndex(start=0, stop=4, step=1)"
      ]
     },
     "execution_count": 77,
     "metadata": {},
     "output_type": "execute_result"
    }
   ],
   "execution_count": 77
  },
  {
   "metadata": {
    "ExecuteTime": {
     "end_time": "2025-08-19T23:56:05.178738Z",
     "start_time": "2025-08-19T23:56:05.173741Z"
    }
   },
   "cell_type": "code",
   "source": [
    "s = pd.Series(range(500))\n",
    "s.head()"
   ],
   "id": "fc27d2bf351eacfd",
   "outputs": [
    {
     "data": {
      "text/plain": [
       "0    0\n",
       "1    1\n",
       "2    2\n",
       "3    3\n",
       "4    4\n",
       "dtype: int64"
      ]
     },
     "execution_count": 78,
     "metadata": {},
     "output_type": "execute_result"
    }
   ],
   "execution_count": 78
  },
  {
   "metadata": {
    "ExecuteTime": {
     "end_time": "2025-08-19T23:56:06.074058Z",
     "start_time": "2025-08-19T23:56:06.066920Z"
    }
   },
   "cell_type": "code",
   "source": "s.head(3)",
   "id": "8741a6e3b7e60f11",
   "outputs": [
    {
     "data": {
      "text/plain": [
       "0    0\n",
       "1    1\n",
       "2    2\n",
       "dtype: int64"
      ]
     },
     "execution_count": 79,
     "metadata": {},
     "output_type": "execute_result"
    }
   ],
   "execution_count": 79
  },
  {
   "metadata": {
    "ExecuteTime": {
     "end_time": "2025-08-19T23:56:06.671995Z",
     "start_time": "2025-08-19T23:56:06.667003Z"
    }
   },
   "cell_type": "code",
   "source": "s.tail()",
   "id": "823bd0fa3b25773b",
   "outputs": [
    {
     "data": {
      "text/plain": [
       "495    495\n",
       "496    496\n",
       "497    497\n",
       "498    498\n",
       "499    499\n",
       "dtype: int64"
      ]
     },
     "execution_count": 80,
     "metadata": {},
     "output_type": "execute_result"
    }
   ],
   "execution_count": 80
  },
  {
   "metadata": {
    "ExecuteTime": {
     "end_time": "2025-08-20T00:07:25.615976Z",
     "start_time": "2025-08-20T00:07:25.611188Z"
    }
   },
   "cell_type": "code",
   "source": [
    "s = pd.Series([1, 2, 3, np.nan, 5])  # dtype change to float64\n",
    "s"
   ],
   "id": "d3b6399070501848",
   "outputs": [
    {
     "data": {
      "text/plain": [
       "0    1.0\n",
       "1    2.0\n",
       "2    3.0\n",
       "3    NaN\n",
       "4    5.0\n",
       "dtype: float64"
      ]
     },
     "execution_count": 138,
     "metadata": {},
     "output_type": "execute_result"
    }
   ],
   "execution_count": 138
  },
  {
   "metadata": {
    "ExecuteTime": {
     "end_time": "2025-08-20T00:07:25.800061Z",
     "start_time": "2025-08-20T00:07:25.796555Z"
    }
   },
   "cell_type": "code",
   "source": "s.count()",
   "id": "dcde079a2a2e4556",
   "outputs": [
    {
     "data": {
      "text/plain": [
       "np.int64(4)"
      ]
     },
     "execution_count": 139,
     "metadata": {},
     "output_type": "execute_result"
    }
   ],
   "execution_count": 139
  },
  {
   "metadata": {
    "ExecuteTime": {
     "end_time": "2025-08-20T00:07:25.999681Z",
     "start_time": "2025-08-20T00:07:25.996176Z"
    }
   },
   "cell_type": "code",
   "source": "s.sum()",
   "id": "f0a06097608e0967",
   "outputs": [
    {
     "data": {
      "text/plain": [
       "np.float64(11.0)"
      ]
     },
     "execution_count": 140,
     "metadata": {},
     "output_type": "execute_result"
    }
   ],
   "execution_count": 140
  },
  {
   "metadata": {
    "ExecuteTime": {
     "end_time": "2025-08-20T00:07:26.157806Z",
     "start_time": "2025-08-20T00:07:26.152807Z"
    }
   },
   "cell_type": "code",
   "source": "s.cumsum()",
   "id": "2070809deb3741b6",
   "outputs": [
    {
     "data": {
      "text/plain": [
       "0     1.0\n",
       "1     3.0\n",
       "2     6.0\n",
       "3     NaN\n",
       "4    11.0\n",
       "dtype: float64"
      ]
     },
     "execution_count": 141,
     "metadata": {},
     "output_type": "execute_result"
    }
   ],
   "execution_count": 141
  },
  {
   "metadata": {
    "ExecuteTime": {
     "end_time": "2025-08-20T00:07:26.342054Z",
     "start_time": "2025-08-20T00:07:26.336763Z"
    }
   },
   "cell_type": "code",
   "source": "s.cumsum(skipna=False)",
   "id": "1e330bccdaf23a4c",
   "outputs": [
    {
     "data": {
      "text/plain": [
       "0    1.0\n",
       "1    3.0\n",
       "2    6.0\n",
       "3    NaN\n",
       "4    NaN\n",
       "dtype: float64"
      ]
     },
     "execution_count": 142,
     "metadata": {},
     "output_type": "execute_result"
    }
   ],
   "execution_count": 142
  },
  {
   "metadata": {
    "ExecuteTime": {
     "end_time": "2025-08-20T00:07:26.494084Z",
     "start_time": "2025-08-20T00:07:26.490621Z"
    }
   },
   "cell_type": "code",
   "source": "s.product()",
   "id": "681ffb856065b2a4",
   "outputs": [
    {
     "data": {
      "text/plain": [
       "np.float64(30.0)"
      ]
     },
     "execution_count": 143,
     "metadata": {},
     "output_type": "execute_result"
    }
   ],
   "execution_count": 143
  },
  {
   "metadata": {
    "ExecuteTime": {
     "end_time": "2025-08-20T00:07:27.005737Z",
     "start_time": "2025-08-20T00:07:27.000480Z"
    }
   },
   "cell_type": "code",
   "source": "s.cumprod()",
   "id": "210a903b5f55851c",
   "outputs": [
    {
     "data": {
      "text/plain": [
       "0     1.0\n",
       "1     2.0\n",
       "2     6.0\n",
       "3     NaN\n",
       "4    30.0\n",
       "dtype: float64"
      ]
     },
     "execution_count": 144,
     "metadata": {},
     "output_type": "execute_result"
    }
   ],
   "execution_count": 144
  },
  {
   "metadata": {
    "ExecuteTime": {
     "end_time": "2025-08-20T00:07:27.064655Z",
     "start_time": "2025-08-20T00:07:27.059527Z"
    }
   },
   "cell_type": "code",
   "source": [
    "s1 = s.bfill()\n",
    "s1"
   ],
   "id": "b2df86c4ae1d2d9c",
   "outputs": [
    {
     "data": {
      "text/plain": [
       "0    1.0\n",
       "1    2.0\n",
       "2    3.0\n",
       "3    5.0\n",
       "4    5.0\n",
       "dtype: float64"
      ]
     },
     "execution_count": 145,
     "metadata": {},
     "output_type": "execute_result"
    }
   ],
   "execution_count": 145
  },
  {
   "metadata": {
    "ExecuteTime": {
     "end_time": "2025-08-20T00:07:27.164946Z",
     "start_time": "2025-08-20T00:07:27.159935Z"
    }
   },
   "cell_type": "code",
   "source": [
    "s2 = s.ffill()\n",
    "s2"
   ],
   "id": "60ed6af0844af1b3",
   "outputs": [
    {
     "data": {
      "text/plain": [
       "0    1.0\n",
       "1    2.0\n",
       "2    3.0\n",
       "3    3.0\n",
       "4    5.0\n",
       "dtype: float64"
      ]
     },
     "execution_count": 146,
     "metadata": {},
     "output_type": "execute_result"
    }
   ],
   "execution_count": 146
  },
  {
   "metadata": {
    "ExecuteTime": {
     "end_time": "2025-08-20T00:07:27.256884Z",
     "start_time": "2025-08-20T00:07:27.251885Z"
    }
   },
   "cell_type": "code",
   "source": "s.pct_change()",
   "id": "37584717cef1eb28",
   "outputs": [
    {
     "name": "stderr",
     "output_type": "stream",
     "text": [
      "C:\\Users\\mahdi\\AppData\\Local\\Temp\\ipykernel_2084\\3969928924.py:1: FutureWarning: The default fill_method='pad' in Series.pct_change is deprecated and will be removed in a future version. Either fill in any non-leading NA values prior to calling pct_change or specify 'fill_method=None' to not fill NA values.\n",
      "  s.pct_change()\n"
     ]
    },
    {
     "data": {
      "text/plain": [
       "0         NaN\n",
       "1    1.000000\n",
       "2    0.500000\n",
       "3    0.000000\n",
       "4    0.666667\n",
       "dtype: float64"
      ]
     },
     "execution_count": 147,
     "metadata": {},
     "output_type": "execute_result"
    }
   ],
   "execution_count": 147
  },
  {
   "metadata": {
    "ExecuteTime": {
     "end_time": "2025-08-20T00:07:34.940388Z",
     "start_time": "2025-08-20T00:07:34.935464Z"
    }
   },
   "cell_type": "code",
   "source": "s.mean()",
   "id": "10227a8074860d1d",
   "outputs": [
    {
     "data": {
      "text/plain": [
       "np.float64(2.75)"
      ]
     },
     "execution_count": 148,
     "metadata": {},
     "output_type": "execute_result"
    }
   ],
   "execution_count": 148
  },
  {
   "metadata": {
    "ExecuteTime": {
     "end_time": "2025-08-20T00:07:38.296183Z",
     "start_time": "2025-08-20T00:07:38.291529Z"
    }
   },
   "cell_type": "code",
   "source": "s.min()",
   "id": "a507684665c58166",
   "outputs": [
    {
     "data": {
      "text/plain": [
       "np.float64(1.0)"
      ]
     },
     "execution_count": 149,
     "metadata": {},
     "output_type": "execute_result"
    }
   ],
   "execution_count": 149
  },
  {
   "metadata": {
    "ExecuteTime": {
     "end_time": "2025-08-20T00:07:41.771422Z",
     "start_time": "2025-08-20T00:07:41.766294Z"
    }
   },
   "cell_type": "code",
   "source": "s.max()",
   "id": "3efa500a5cac70a3",
   "outputs": [
    {
     "data": {
      "text/plain": [
       "np.float64(5.0)"
      ]
     },
     "execution_count": 150,
     "metadata": {},
     "output_type": "execute_result"
    }
   ],
   "execution_count": 150
  },
  {
   "metadata": {
    "ExecuteTime": {
     "end_time": "2025-08-20T00:07:45.025836Z",
     "start_time": "2025-08-20T00:07:45.014606Z"
    }
   },
   "cell_type": "code",
   "source": "s.describe()",
   "id": "81c3def6879f329d",
   "outputs": [
    {
     "data": {
      "text/plain": [
       "count    4.000000\n",
       "mean     2.750000\n",
       "std      1.707825\n",
       "min      1.000000\n",
       "25%      1.750000\n",
       "50%      2.500000\n",
       "75%      3.500000\n",
       "max      5.000000\n",
       "dtype: float64"
      ]
     },
     "execution_count": 151,
     "metadata": {},
     "output_type": "execute_result"
    }
   ],
   "execution_count": 151
  },
  {
   "metadata": {
    "ExecuteTime": {
     "end_time": "2025-08-20T00:08:11.172492Z",
     "start_time": "2025-08-20T00:08:11.164796Z"
    }
   },
   "cell_type": "code",
   "source": "s.sample()",
   "id": "bf399995404d80ef",
   "outputs": [
    {
     "data": {
      "text/plain": [
       "1    2.0\n",
       "dtype: float64"
      ]
     },
     "execution_count": 155,
     "metadata": {},
     "output_type": "execute_result"
    }
   ],
   "execution_count": 155
  },
  {
   "metadata": {
    "ExecuteTime": {
     "end_time": "2025-08-20T00:08:41.271207Z",
     "start_time": "2025-08-20T00:08:41.263262Z"
    }
   },
   "cell_type": "code",
   "source": "s.sample(4,replace=True)",
   "id": "297befefd019c168",
   "outputs": [
    {
     "data": {
      "text/plain": [
       "4    5.0\n",
       "4    5.0\n",
       "4    5.0\n",
       "2    3.0\n",
       "dtype: float64"
      ]
     },
     "execution_count": 158,
     "metadata": {},
     "output_type": "execute_result"
    }
   ],
   "execution_count": 158
  },
  {
   "metadata": {
    "ExecuteTime": {
     "end_time": "2025-08-20T00:08:49.574232Z",
     "start_time": "2025-08-20T00:08:49.569233Z"
    }
   },
   "cell_type": "code",
   "source": "s+4",
   "id": "c189455ed17e154e",
   "outputs": [
    {
     "data": {
      "text/plain": [
       "0    5.0\n",
       "1    6.0\n",
       "2    7.0\n",
       "3    NaN\n",
       "4    9.0\n",
       "dtype: float64"
      ]
     },
     "execution_count": 159,
     "metadata": {},
     "output_type": "execute_result"
    }
   ],
   "execution_count": 159
  },
  {
   "metadata": {},
   "cell_type": "code",
   "outputs": [],
   "execution_count": null,
   "source": "",
   "id": "62e458c9d19dd7d0"
  }
 ],
 "metadata": {
  "kernelspec": {
   "display_name": "Python 3",
   "language": "python",
   "name": "python3"
  },
  "language_info": {
   "codemirror_mode": {
    "name": "ipython",
    "version": 2
   },
   "file_extension": ".py",
   "mimetype": "text/x-python",
   "name": "python",
   "nbconvert_exporter": "python",
   "pygments_lexer": "ipython2",
   "version": "2.7.6"
  }
 },
 "nbformat": 4,
 "nbformat_minor": 5
}
